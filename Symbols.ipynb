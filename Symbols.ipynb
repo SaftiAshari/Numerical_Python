{
 "cells": [
  {
   "cell_type": "code",
   "execution_count": 3,
   "metadata": {},
   "outputs": [
    {
     "name": "stdout",
     "output_type": "stream",
     "text": [
      "Collecting sympy\n",
      "  Downloading sympy-1.13.3-py3-none-any.whl.metadata (12 kB)\n",
      "Collecting mpmath<1.4,>=1.1.0 (from sympy)\n",
      "  Downloading mpmath-1.3.0-py3-none-any.whl.metadata (8.6 kB)\n",
      "Downloading sympy-1.13.3-py3-none-any.whl (6.2 MB)\n",
      "   ---------------------------------------- 0.0/6.2 MB ? eta -:--:--\n",
      "   ---------------------------------------- 0.0/6.2 MB ? eta -:--:--\n",
      "   ---------------------------------------- 0.0/6.2 MB 495.5 kB/s eta 0:00:13\n",
      "    --------------------------------------- 0.1/6.2 MB 939.4 kB/s eta 0:00:07\n",
      "   - -------------------------------------- 0.2/6.2 MB 1.4 MB/s eta 0:00:05\n",
      "   -- ------------------------------------- 0.3/6.2 MB 1.6 MB/s eta 0:00:04\n",
      "   --- ------------------------------------ 0.6/6.2 MB 2.2 MB/s eta 0:00:03\n",
      "   ----- ---------------------------------- 0.8/6.2 MB 2.7 MB/s eta 0:00:03\n",
      "   ------ --------------------------------- 1.0/6.2 MB 2.8 MB/s eta 0:00:02\n",
      "   ------ --------------------------------- 1.0/6.2 MB 2.8 MB/s eta 0:00:02\n",
      "   -------- ------------------------------- 1.3/6.2 MB 3.2 MB/s eta 0:00:02\n",
      "   -------- ------------------------------- 1.3/6.2 MB 3.2 MB/s eta 0:00:02\n",
      "   ----------- ---------------------------- 1.8/6.2 MB 3.4 MB/s eta 0:00:02\n",
      "   ------------ --------------------------- 1.9/6.2 MB 3.2 MB/s eta 0:00:02\n",
      "   ------------- -------------------------- 2.0/6.2 MB 3.4 MB/s eta 0:00:02\n",
      "   ------------- -------------------------- 2.2/6.2 MB 3.2 MB/s eta 0:00:02\n",
      "   -------------- ------------------------- 2.3/6.2 MB 3.1 MB/s eta 0:00:02\n",
      "   --------------- ------------------------ 2.3/6.2 MB 3.0 MB/s eta 0:00:02\n",
      "   ---------------- ----------------------- 2.5/6.2 MB 3.1 MB/s eta 0:00:02\n",
      "   ---------------- ----------------------- 2.6/6.2 MB 3.0 MB/s eta 0:00:02\n",
      "   ----------------- ---------------------- 2.7/6.2 MB 2.9 MB/s eta 0:00:02\n",
      "   ----------------- ---------------------- 2.8/6.2 MB 2.9 MB/s eta 0:00:02\n",
      "   ----------------- ---------------------- 2.8/6.2 MB 2.8 MB/s eta 0:00:02\n",
      "   ------------------ --------------------- 2.8/6.2 MB 2.6 MB/s eta 0:00:02\n",
      "   ------------------ --------------------- 2.9/6.2 MB 2.6 MB/s eta 0:00:02\n",
      "   ------------------- -------------------- 3.0/6.2 MB 2.6 MB/s eta 0:00:02\n",
      "   -------------------- ------------------- 3.1/6.2 MB 2.6 MB/s eta 0:00:02\n",
      "   -------------------- ------------------- 3.2/6.2 MB 2.6 MB/s eta 0:00:02\n",
      "   --------------------- ------------------ 3.3/6.2 MB 2.6 MB/s eta 0:00:02\n",
      "   --------------------- ------------------ 3.3/6.2 MB 2.5 MB/s eta 0:00:02\n",
      "   --------------------- ------------------ 3.4/6.2 MB 2.4 MB/s eta 0:00:02\n",
      "   ---------------------- ----------------- 3.4/6.2 MB 2.4 MB/s eta 0:00:02\n",
      "   ----------------------- ---------------- 3.6/6.2 MB 2.4 MB/s eta 0:00:02\n",
      "   ----------------------- ---------------- 3.6/6.2 MB 2.4 MB/s eta 0:00:02\n",
      "   ----------------------- ---------------- 3.6/6.2 MB 2.4 MB/s eta 0:00:02\n",
      "   ------------------------ --------------- 3.8/6.2 MB 2.3 MB/s eta 0:00:02\n",
      "   ------------------------ --------------- 3.8/6.2 MB 2.3 MB/s eta 0:00:02\n",
      "   ------------------------- -------------- 4.0/6.2 MB 2.3 MB/s eta 0:00:01\n",
      "   -------------------------- ------------- 4.1/6.2 MB 2.3 MB/s eta 0:00:01\n",
      "   -------------------------- ------------- 4.2/6.2 MB 2.3 MB/s eta 0:00:01\n",
      "   --------------------------- ------------ 4.3/6.2 MB 2.3 MB/s eta 0:00:01\n",
      "   ---------------------------- ----------- 4.4/6.2 MB 2.3 MB/s eta 0:00:01\n",
      "   ----------------------------- ---------- 4.5/6.2 MB 2.3 MB/s eta 0:00:01\n",
      "   ----------------------------- ---------- 4.6/6.2 MB 2.3 MB/s eta 0:00:01\n",
      "   ------------------------------ --------- 4.7/6.2 MB 2.3 MB/s eta 0:00:01\n",
      "   ------------------------------- -------- 4.8/6.2 MB 2.3 MB/s eta 0:00:01\n",
      "   ------------------------------- -------- 4.9/6.2 MB 2.3 MB/s eta 0:00:01\n",
      "   -------------------------------- ------- 5.0/6.2 MB 2.3 MB/s eta 0:00:01\n",
      "   --------------------------------- ------ 5.1/6.2 MB 2.3 MB/s eta 0:00:01\n",
      "   --------------------------------- ------ 5.2/6.2 MB 2.3 MB/s eta 0:00:01\n",
      "   ---------------------------------- ----- 5.3/6.2 MB 2.3 MB/s eta 0:00:01\n",
      "   ---------------------------------- ----- 5.4/6.2 MB 2.3 MB/s eta 0:00:01\n",
      "   ----------------------------------- ---- 5.5/6.2 MB 2.3 MB/s eta 0:00:01\n",
      "   ------------------------------------ --- 5.6/6.2 MB 2.3 MB/s eta 0:00:01\n",
      "   ------------------------------------ --- 5.7/6.2 MB 2.3 MB/s eta 0:00:01\n",
      "   ------------------------------------- -- 5.8/6.2 MB 2.3 MB/s eta 0:00:01\n",
      "   -------------------------------------- - 5.9/6.2 MB 2.3 MB/s eta 0:00:01\n",
      "   ---------------------------------------  6.0/6.2 MB 2.3 MB/s eta 0:00:01\n",
      "   ---------------------------------------  6.1/6.2 MB 2.3 MB/s eta 0:00:01\n",
      "   ---------------------------------------  6.2/6.2 MB 2.3 MB/s eta 0:00:01\n",
      "   ---------------------------------------- 6.2/6.2 MB 2.2 MB/s eta 0:00:00\n",
      "Downloading mpmath-1.3.0-py3-none-any.whl (536 kB)\n",
      "   ---------------------------------------- 0.0/536.2 kB ? eta -:--:--\n",
      "   -------- ------------------------------- 112.6/536.2 kB 3.3 MB/s eta 0:00:01\n",
      "   ---------------- ----------------------- 225.3/536.2 kB 2.8 MB/s eta 0:00:01\n",
      "   ------------------------- -------------- 337.9/536.2 kB 2.6 MB/s eta 0:00:01\n",
      "   --------------------------------- ------ 450.6/536.2 kB 2.6 MB/s eta 0:00:01\n",
      "   ---------------------------------------  532.5/536.2 kB 2.6 MB/s eta 0:00:01\n",
      "   ---------------------------------------- 536.2/536.2 kB 2.2 MB/s eta 0:00:00\n",
      "Installing collected packages: mpmath, sympy\n",
      "Successfully installed mpmath-1.3.0 sympy-1.13.3\n"
     ]
    },
    {
     "name": "stderr",
     "output_type": "stream",
     "text": [
      "\n",
      "[notice] A new release of pip is available: 24.0 -> 24.3.1\n",
      "[notice] To update, run: C:\\Users\\USER\\AppData\\Local\\Microsoft\\WindowsApps\\PythonSoftwareFoundation.Python.3.11_qbz5n2kfra8p0\\python.exe -m pip install --upgrade pip\n"
     ]
    }
   ],
   "source": [
    "!pip install sympy"
   ]
  },
  {
   "cell_type": "code",
   "execution_count": 4,
   "metadata": {},
   "outputs": [],
   "source": [
    "import sympy"
   ]
  },
  {
   "cell_type": "code",
   "execution_count": 5,
   "metadata": {},
   "outputs": [],
   "source": [
    "sympy.init_printing()"
   ]
  },
  {
   "cell_type": "code",
   "execution_count": 6,
   "metadata": {},
   "outputs": [],
   "source": [
    "from sympy import I, pi, oo\n",
    "x = sympy.Symbol(\"x\")"
   ]
  },
  {
   "cell_type": "code",
   "execution_count": 7,
   "metadata": {},
   "outputs": [],
   "source": [
    "y = sympy.Symbol(\"y\", positive=True)"
   ]
  },
  {
   "cell_type": "code",
   "execution_count": 8,
   "metadata": {},
   "outputs": [
    {
     "data": {
      "image/png": "[encoded data removed]",
      "text/latex": [
       "$\\displaystyle \\sqrt{x^{2}}$"
      ],
      "text/plain": [
       "   ____\n",
       "  ╱  2 \n",
       "╲╱  x  "
      ]
     },
     "execution_count": 8,
     "metadata": {},
     "output_type": "execute_result"
    }
   ],
   "source": [
    "sympy.sqrt(x ** 2)"
   ]
  },
  {
   "cell_type": "code",
   "execution_count": 9,
   "metadata": {},
   "outputs": [
    {
     "data": {
      "image/png": "[encoded data removed]",
      "text/latex": [
       "$\\displaystyle y$"
      ],
      "text/plain": [
       "y"
      ]
     },
     "execution_count": 9,
     "metadata": {},
     "output_type": "execute_result"
    }
   ],
   "source": [
    "sympy.sqrt(y ** 2)"
   ]
  },
  {
   "cell_type": "code",
   "execution_count": 14,
   "metadata": {},
   "outputs": [
    {
     "data": {
      "image/png": "[encoded data removed]",
      "text/latex": [
       "$\\displaystyle -1$"
      ],
      "text/plain": [
       "-1"
      ]
     },
     "execution_count": 14,
     "metadata": {},
     "output_type": "execute_result"
    }
   ],
   "source": [
    "n1 = sympy.Symbol(\"n\")\n",
    "n2 = sympy.Symbol(\"n\", integer=True)\n",
    "n3 = sympy.Symbol(\"n\", odd=True)\n",
    "sympy.cos(n3*pi)"
   ]
  },
  {
   "cell_type": "code",
   "execution_count": 17,
   "metadata": {},
   "outputs": [
    {
     "data": {
      "image/png": "[encoded data removed]",
      "text/latex": [
       "$\\displaystyle \\frac{11}{3}$"
      ],
      "text/plain": [
       "11/3"
      ]
     },
     "execution_count": 17,
     "metadata": {},
     "output_type": "execute_result"
    }
   ],
   "source": [
    "sympy.Rational(11,3)"
   ]
  },
  {
   "cell_type": "code",
   "execution_count": 19,
   "metadata": {},
   "outputs": [
    {
     "data": {
      "image/png": "[encoded data removed]",
      "text/latex": [
       "$\\displaystyle \\frac{5}{6}$"
      ],
      "text/plain": [
       "5/6"
      ]
     },
     "execution_count": 19,
     "metadata": {},
     "output_type": "execute_result"
    }
   ],
   "source": [
    "sympy.Rational(2,3)*sympy.Rational(5,4)"
   ]
  }
 ],
 "metadata": {
  "kernelspec": {
   "display_name": "Python 3",
   "language": "python",
   "name": "python3"
  },
  "language_info": {
   "codemirror_mode": {
    "name": "ipython",
    "version": 3
   },
   "file_extension": ".py",
   "mimetype": "text/x-python",
   "name": "python",
   "nbconvert_exporter": "python",
   "pygments_lexer": "ipython3",
   "version": "3.11.9"
  }
 },
 "nbformat": 4,
 "nbformat_minor": 2
}
